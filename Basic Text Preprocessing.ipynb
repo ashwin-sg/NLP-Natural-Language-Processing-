{
 "cells": [
  {
   "cell_type": "code",
   "execution_count": 1,
   "metadata": {},
   "outputs": [],
   "source": [
    "import nltk"
   ]
  },
  {
   "cell_type": "code",
   "execution_count": 2,
   "metadata": {},
   "outputs": [],
   "source": [
    "sent = \"My name is Ash. I am a greatest Engineer of All time!!. Wait for my Blast.\""
   ]
  },
  {
   "cell_type": "code",
   "execution_count": 3,
   "metadata": {},
   "outputs": [],
   "source": [
    "from nltk.corpus import stopwords\n",
    "stop_words = stopwords.words('english')"
   ]
  },
  {
   "cell_type": "code",
   "execution_count": 4,
   "metadata": {},
   "outputs": [
    {
     "data": {
      "text/plain": [
       "'!\"#$%&\\'()*+,-./:;<=>?@[\\\\]^_`{|}~'"
      ]
     },
     "execution_count": 4,
     "metadata": {},
     "output_type": "execute_result"
    }
   ],
   "source": [
    "import string\n",
    "punc = string.punctuation\n",
    "punc"
   ]
  },
  {
   "cell_type": "code",
   "execution_count": 5,
   "metadata": {},
   "outputs": [
    {
     "name": "stdout",
     "output_type": "stream",
     "text": [
      "Filtered data:  ['my', 'name', 'ash', 'i', 'greatest', 'engineer', 'all', 'time', 'wait', 'blast']\n",
      "Removed data:  ['is', '.', 'am', 'a', 'of', '!', '!', '.', 'for', 'my', '.']\n"
     ]
    }
   ],
   "source": [
    "filtered_data = []\n",
    "removed_data = []\n",
    "\n",
    "for i in nltk.word_tokenize(sent):\n",
    "    if(i not in stop_words) and (i not in punc):\n",
    "        filtered_data.append(i.lower())\n",
    "    else:\n",
    "        removed_data.append(i)\n",
    "        \n",
    "print(\"Filtered data: \", filtered_data)\n",
    "print(\"Removed data: \", removed_data)"
   ]
  }
 ],
 "metadata": {
  "kernelspec": {
   "display_name": "Python 3",
   "language": "python",
   "name": "python3"
  },
  "language_info": {
   "codemirror_mode": {
    "name": "ipython",
    "version": 3
   },
   "file_extension": ".py",
   "mimetype": "text/x-python",
   "name": "python",
   "nbconvert_exporter": "python",
   "pygments_lexer": "ipython3",
   "version": "3.7.6"
  }
 },
 "nbformat": 4,
 "nbformat_minor": 4
}
